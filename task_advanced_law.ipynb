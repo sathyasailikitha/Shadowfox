{
 "cells": [
  {
   "cell_type": "code",
   "execution_count": 1,
   "id": "48170626-84f5-435f-93e7-567c01788ce3",
   "metadata": {},
   "outputs": [
    {
     "name": "stderr",
     "output_type": "stream",
     "text": [
      "/home/likitha/.local/lib/python3.11/site-packages/tqdm/auto.py:21: TqdmWarning: IProgress not found. Please update jupyter and ipywidgets. See https://ipywidgets.readthedocs.io/en/stable/user_install.html\n",
      "  from .autonotebook import tqdm as notebook_tqdm\n"
     ]
    },
    {
     "name": "stdout",
     "output_type": "stream",
     "text": [
      " Loaded 465 articles from dataset.\n",
      " Loading models...\n"
     ]
    },
    {
     "name": "stderr",
     "output_type": "stream",
     "text": [
      "Some weights of the model checkpoint at deepset/bert-base-cased-squad2 were not used when initializing BertForQuestionAnswering: ['bert.pooler.dense.bias', 'bert.pooler.dense.weight']\n",
      "- This IS expected if you are initializing BertForQuestionAnswering from the checkpoint of a model trained on another task or with another architecture (e.g. initializing a BertForSequenceClassification model from a BertForPreTraining model).\n",
      "- This IS NOT expected if you are initializing BertForQuestionAnswering from the checkpoint of a model that you expect to be exactly identical (initializing a BertForSequenceClassification model from a BertForSequenceClassification model).\n"
     ]
    },
    {
     "name": "stdout",
     "output_type": "stream",
     "text": [
      " Corpus embeddings ready.\n",
      "* Running on local URL:  http://127.0.0.1:7860\n",
      "* To create a public link, set `share=True` in `launch()`.\n"
     ]
    },
    {
     "data": {
      "text/html": [
       "<div><iframe src=\"http://127.0.0.1:7860/\" width=\"100%\" height=\"500\" allow=\"autoplay; camera; microphone; clipboard-read; clipboard-write;\" frameborder=\"0\" allowfullscreen></iframe></div>"
      ],
      "text/plain": [
       "<IPython.core.display.HTML object>"
      ]
     },
     "metadata": {},
     "output_type": "display_data"
    },
    {
     "data": {
      "text/plain": []
     },
     "execution_count": 1,
     "metadata": {},
     "output_type": "execute_result"
    }
   ],
   "source": [
    "import json\n",
    "import torch\n",
    "import gradio as gr\n",
    "import re\n",
    "from transformers import AutoTokenizer, AutoModelForQuestionAnswering\n",
    "from sentence_transformers import SentenceTransformer, util\n",
    "\n",
    "# Load Constitution Dataset\n",
    "with open(\"/home/likitha/indian_constitution_full_qa.json\", \"r\", encoding=\"utf-8\") as f:\n",
    "    data = json.load(f)\n",
    "\n",
    "print(f\" Loaded {len(data)} articles from dataset.\")\n",
    "\n",
    "# Build Corpus for Semantic Search\n",
    "corpus = [f\"Article {item['article']} - {item['title']}. {item['description']}\" for item in data]\n",
    "\n",
    "# Load Models\n",
    "print(\" Loading models...\")\n",
    "qa_model = AutoModelForQuestionAnswering.from_pretrained(\"deepset/bert-base-cased-squad2\") \n",
    "qa_tokenizer = AutoTokenizer.from_pretrained(\"deepset/bert-base-cased-squad2\")\n",
    "encoder = SentenceTransformer(\"all-MiniLM-L6-v2\")\n",
    "\n",
    "# Precompute Embeddings\n",
    "corpus_embeddings = encoder.encode(corpus, convert_to_tensor=True)\n",
    "print(\" Corpus embeddings ready.\")\n",
    "\n",
    "# QA Answer Function\n",
    "def get_answer(question, context):\n",
    "    inputs = qa_tokenizer.encode_plus(question, context, return_tensors=\"pt\", truncation=True, max_length=512)\n",
    "    with torch.no_grad():\n",
    "        outputs = qa_model(**inputs)\n",
    "    start = torch.argmax(outputs.start_logits)\n",
    "    end = torch.argmax(outputs.end_logits) + 1\n",
    "    if start >= end:\n",
    "        return \"⚠️ No clear answer found.\"\n",
    "    return qa_tokenizer.decode(inputs[\"input_ids\"][0][start:end], skip_special_tokens=True).strip()\n",
    "\n",
    "# Chatbot Logic \n",
    "def chatbot(user_question):\n",
    "    # Check for direct article number\n",
    "    match = re.search(r\"article\\s+(\\d+)\", user_question.lower())\n",
    "    if match:\n",
    "        article_num = int(match.group(1))\n",
    "        for item in data:\n",
    "            if int(item['article']) == article_num:\n",
    "                context = item[\"description\"]\n",
    "                title = f\"{item['article']} - {item['title']}\"\n",
    "                answer = get_answer(user_question, context)\n",
    "                return f\"📘 {title}\\n\\n🧠 Answer: {answer}\", f\"📚 Context:\\n\\n{context}\"\n",
    "    \n",
    "    # Fallback to semantic search\n",
    "    question_embedding = encoder.encode(user_question, convert_to_tensor=True)\n",
    "    scores = util.pytorch_cos_sim(question_embedding, corpus_embeddings)[0]\n",
    "    best_match_idx = torch.argmax(scores).item()\n",
    "    \n",
    "    best_item = data[best_match_idx]\n",
    "    best_context = best_item[\"description\"]\n",
    "    article_title = f\"{best_item['article']} - {best_item['title']}\"\n",
    "    answer = get_answer(user_question, corpus[best_match_idx])\n",
    "\n",
    "    return f\" {article_title}\\n\\n🧠 Answer: {answer}\", f\"📚 Context:\\n\\n{best_context}\"\n",
    "\n",
    "# Launch Gradio UI\n",
    "gr.Interface(\n",
    "    fn=chatbot,\n",
    "    inputs=gr.Textbox(lines=2, placeholder=\"Ask a question about the Indian Constitution...\"),\n",
    "    outputs=[\"text\", \"text\"],\n",
    "    title=\"🇮🇳 Indian Constitution Chatbot (with Semantic Search + Article Match)\",\n",
    "    description=\"Ask legal questions related to the Constitution of India. Now finds exact Articles or uses semantic search if needed.\",\n",
    ").launch()\n"
   ]
  },
  {
   "cell_type": "code",
   "execution_count": null,
   "id": "1a57d37e-67c6-4458-a75b-1d0b0def28a6",
   "metadata": {},
   "outputs": [],
   "source": []
  }
 ],
 "metadata": {
  "kernelspec": {
   "display_name": "Python 3 (ipykernel)",
   "language": "python",
   "name": "python3"
  },
  "language_info": {
   "codemirror_mode": {
    "name": "ipython",
    "version": 3
   },
   "file_extension": ".py",
   "mimetype": "text/x-python",
   "name": "python",
   "nbconvert_exporter": "python",
   "pygments_lexer": "ipython3",
   "version": "3.11.6"
  }
 },
 "nbformat": 4,
 "nbformat_minor": 5
}
